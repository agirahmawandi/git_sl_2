{
 "cells": [
  {
   "cell_type": "markdown",
   "id": "79af1274",
   "metadata": {},
   "source": [
    "HW Supervised Learning"
   ]
  }
 ],
 "metadata": {
  "language_info": {
   "name": "python"
  }
 },
 "nbformat": 4,
 "nbformat_minor": 5
}
