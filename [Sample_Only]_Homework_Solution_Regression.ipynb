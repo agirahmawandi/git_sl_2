{
  "nbformat": 4,
  "nbformat_minor": 0,
  "metadata": {
    "kernelspec": {
      "display_name": "Python 3",
      "language": "python",
      "name": "python3"
    },
    "language_info": {
      "codemirror_mode": {
        "name": "ipython",
        "version": 3
      },
      "file_extension": ".py",
      "mimetype": "text/x-python",
      "name": "python",
      "nbconvert_exporter": "python",
      "pygments_lexer": "ipython3",
      "version": "3.7.6"
    },
    "latex_envs": {
      "LaTeX_envs_menu_present": true,
      "autoclose": false,
      "autocomplete": true,
      "bibliofile": "biblio.bib",
      "cite_by": "apalike",
      "current_citInitial": 1,
      "eqLabelWithNumbers": true,
      "eqNumInitial": 1,
      "hotkeys": {
        "equation": "Ctrl-E",
        "itemize": "Ctrl-I"
      },
      "labels_anchors": false,
      "latex_user_defs": false,
      "report_style_numbering": false,
      "user_envs_cfg": false
    },
    "toc": {
      "base_numbering": 1,
      "nav_menu": {},
      "number_sections": true,
      "sideBar": true,
      "skip_h1_title": false,
      "title_cell": "Table of Contents",
      "title_sidebar": "Contents",
      "toc_cell": false,
      "toc_position": {
        "height": "577.1px",
        "left": "25px",
        "top": "89px",
        "width": "200px"
      },
      "toc_section_display": true,
      "toc_window_display": true
    },
    "colab": {
      "provenance": []
    }
  },
  "cells": [
    {
      "cell_type": "markdown",
      "metadata": {
        "id": "JXN9-UfmhSM7"
      },
      "source": [
        "# Homework Solution - Regression\n",
        "Notebook ini berisi solusi dari homework regression. Solusi yang dituliskan disini hanya contoh dasar dan dapat dikembangkan di banyak hal.\n",
        "\n",
        "<b>Goal: </b> Prediksi views dari youtube berdasarkan atribut-atribut lainnya"
      ]
    },
    {
      "cell_type": "code",
      "metadata": {
        "ExecuteTime": {
          "end_time": "2021-04-12T12:51:01.334451Z",
          "start_time": "2021-04-12T12:51:00.250655Z"
        },
        "id": "ALxiZBryhSM-"
      },
      "source": [
        "import matplotlib.pyplot as plt\n",
        "import pandas as pd\n",
        "import seaborn as sns"
      ],
      "execution_count": null,
      "outputs": []
    },
    {
      "cell_type": "code",
      "metadata": {
        "ExecuteTime": {
          "end_time": "2021-04-12T12:51:08.522710Z",
          "start_time": "2021-04-12T12:51:01.335826Z"
        },
        "id": "wm9UCkXChSM_",
        "outputId": "1d4b4dc3-b6c3-4432-ecd9-3c762c1c6b0f"
      },
      "source": [
        "df = pd.read_excel('youtube_statistics.xlsx')\n",
        "df.tail(2)"
      ],
      "execution_count": null,
      "outputs": [
        {
          "output_type": "execute_result",
          "data": {
            "text/html": [
              "<div>\n",
              "<style scoped>\n",
              "    .dataframe tbody tr th:only-of-type {\n",
              "        vertical-align: middle;\n",
              "    }\n",
              "\n",
              "    .dataframe tbody tr th {\n",
              "        vertical-align: top;\n",
              "    }\n",
              "\n",
              "    .dataframe thead th {\n",
              "        text-align: right;\n",
              "    }\n",
              "</style>\n",
              "<table border=\"1\" class=\"dataframe\">\n",
              "  <thead>\n",
              "    <tr style=\"text-align: right;\">\n",
              "      <th></th>\n",
              "      <th>trending_date</th>\n",
              "      <th>title</th>\n",
              "      <th>channel_title</th>\n",
              "      <th>category_id</th>\n",
              "      <th>publish_time</th>\n",
              "      <th>tags</th>\n",
              "      <th>views</th>\n",
              "      <th>likes</th>\n",
              "      <th>dislikes</th>\n",
              "      <th>comment_count</th>\n",
              "      <th>comments_disabled</th>\n",
              "      <th>ratings_disabled</th>\n",
              "      <th>video_error_or_removed</th>\n",
              "      <th>description</th>\n",
              "      <th>No_tags</th>\n",
              "      <th>desc_len</th>\n",
              "      <th>len_title</th>\n",
              "      <th>publish_date</th>\n",
              "    </tr>\n",
              "  </thead>\n",
              "  <tbody>\n",
              "    <tr>\n",
              "      <th>36789</th>\n",
              "      <td>2018-06-14</td>\n",
              "      <td>Nua Bohu | Full Ep 285 | 13th June 2018 | Odia...</td>\n",
              "      <td>Tarang TV</td>\n",
              "      <td>24</td>\n",
              "      <td>15:07:49</td>\n",
              "      <td>tarang|\"tarang tv\"|\"tarang tv online\"|\"tarang ...</td>\n",
              "      <td>130263</td>\n",
              "      <td>698</td>\n",
              "      <td>115</td>\n",
              "      <td>65</td>\n",
              "      <td>False</td>\n",
              "      <td>False</td>\n",
              "      <td>False</td>\n",
              "      <td>Nuabohu : Story of a rustic village girl who w...</td>\n",
              "      <td>15</td>\n",
              "      <td>432</td>\n",
              "      <td>64</td>\n",
              "      <td>2018-06-13</td>\n",
              "    </tr>\n",
              "    <tr>\n",
              "      <th>36790</th>\n",
              "      <td>2018-06-14</td>\n",
              "      <td>Ee Nagaraniki Emaindi Trailer | Tharun Bhascke...</td>\n",
              "      <td>Suresh Productions</td>\n",
              "      <td>24</td>\n",
              "      <td>04:29:54</td>\n",
              "      <td>Ee Nagaraniki Emaindi|\"Ee Nagaraniki Emaindi T...</td>\n",
              "      <td>1278249</td>\n",
              "      <td>22466</td>\n",
              "      <td>1609</td>\n",
              "      <td>1205</td>\n",
              "      <td>False</td>\n",
              "      <td>False</td>\n",
              "      <td>False</td>\n",
              "      <td>Check out Ee Nagaraniki Emaindi Trailer #EeNag...</td>\n",
              "      <td>14</td>\n",
              "      <td>1030</td>\n",
              "      <td>76</td>\n",
              "      <td>2018-06-10</td>\n",
              "    </tr>\n",
              "  </tbody>\n",
              "</table>\n",
              "</div>"
            ],
            "text/plain": [
              "      trending_date                                              title  \\\n",
              "36789    2018-06-14  Nua Bohu | Full Ep 285 | 13th June 2018 | Odia...   \n",
              "36790    2018-06-14  Ee Nagaraniki Emaindi Trailer | Tharun Bhascke...   \n",
              "\n",
              "            channel_title  category_id publish_time  \\\n",
              "36789           Tarang TV           24     15:07:49   \n",
              "36790  Suresh Productions           24     04:29:54   \n",
              "\n",
              "                                                    tags    views  likes  \\\n",
              "36789  tarang|\"tarang tv\"|\"tarang tv online\"|\"tarang ...   130263    698   \n",
              "36790  Ee Nagaraniki Emaindi|\"Ee Nagaraniki Emaindi T...  1278249  22466   \n",
              "\n",
              "       dislikes  comment_count  comments_disabled  ratings_disabled  \\\n",
              "36789       115             65              False             False   \n",
              "36790      1609           1205              False             False   \n",
              "\n",
              "       video_error_or_removed  \\\n",
              "36789                   False   \n",
              "36790                   False   \n",
              "\n",
              "                                             description  No_tags  desc_len  \\\n",
              "36789  Nuabohu : Story of a rustic village girl who w...       15       432   \n",
              "36790  Check out Ee Nagaraniki Emaindi Trailer #EeNag...       14      1030   \n",
              "\n",
              "       len_title publish_date  \n",
              "36789         64   2018-06-13  \n",
              "36790         76   2018-06-10  "
            ]
          },
          "metadata": {
            "tags": []
          },
          "execution_count": 2
        }
      ]
    },
    {
      "cell_type": "markdown",
      "metadata": {
        "id": "D506ht98hSNA"
      },
      "source": [
        "# Simple Exploratory Data Analysis\n",
        "Bagian ini akan sedikit membahas mengenai kondisi data secara keseluruhan. Karena bukan fokus pada modul Supervised Learning, Bagian ini tidak akan digali insight lebih banyak"
      ]
    },
    {
      "cell_type": "markdown",
      "metadata": {
        "id": "2uHaHNE8hSNB"
      },
      "source": [
        "## General Info"
      ]
    },
    {
      "cell_type": "code",
      "metadata": {
        "ExecuteTime": {
          "end_time": "2021-04-12T12:51:08.552968Z",
          "start_time": "2021-04-12T12:51:08.524880Z"
        },
        "id": "IUbzUzUdhSNB",
        "outputId": "d1217f29-b5bb-4d2c-a29b-a172678704f9"
      },
      "source": [
        "df.info()"
      ],
      "execution_count": null,
      "outputs": [
        {
          "output_type": "stream",
          "text": [
            "<class 'pandas.core.frame.DataFrame'>\n",
            "RangeIndex: 36791 entries, 0 to 36790\n",
            "Data columns (total 18 columns):\n",
            " #   Column                  Non-Null Count  Dtype         \n",
            "---  ------                  --------------  -----         \n",
            " 0   trending_date           36791 non-null  object        \n",
            " 1   title                   36791 non-null  object        \n",
            " 2   channel_title           36791 non-null  object        \n",
            " 3   category_id             36791 non-null  int64         \n",
            " 4   publish_time            36791 non-null  object        \n",
            " 5   tags                    36791 non-null  object        \n",
            " 6   views                   36791 non-null  int64         \n",
            " 7   likes                   36791 non-null  int64         \n",
            " 8   dislikes                36791 non-null  int64         \n",
            " 9   comment_count           36791 non-null  int64         \n",
            " 10  comments_disabled       36791 non-null  bool          \n",
            " 11  ratings_disabled        36791 non-null  bool          \n",
            " 12  video_error_or_removed  36791 non-null  bool          \n",
            " 13  description             36746 non-null  object        \n",
            " 14  No_tags                 36791 non-null  int64         \n",
            " 15  desc_len                36791 non-null  int64         \n",
            " 16  len_title               36791 non-null  int64         \n",
            " 17  publish_date            36791 non-null  datetime64[ns]\n",
            "dtypes: bool(3), datetime64[ns](1), int64(8), object(6)\n",
            "memory usage: 4.3+ MB\n"
          ],
          "name": "stdout"
        }
      ]
    },
    {
      "cell_type": "markdown",
      "metadata": {
        "id": "CGqxiP3ThSNC"
      },
      "source": [
        "Deskripsi menggunakan fungsi `info()` untuk mengetahui kondisi dari dataset (tipe data, adanya nilai null, hingga jumlah baris)\n",
        "- Terdapat 36,791 rows\n",
        "- Tidak ada kolom yang mempunyai nilai NULL, sehingga tidak diperlukan drop null values"
      ]
    },
    {
      "cell_type": "markdown",
      "metadata": {
        "id": "-0oP0PXDhSND"
      },
      "source": [
        "## Variabel Numerik"
      ]
    },
    {
      "cell_type": "code",
      "metadata": {
        "ExecuteTime": {
          "end_time": "2021-04-12T12:51:08.607214Z",
          "start_time": "2021-04-12T12:51:08.556747Z"
        },
        "id": "JXT5lSNXhSND",
        "outputId": "629661bf-ccac-4bce-be03-1917479d15b4"
      },
      "source": [
        "df.describe()"
      ],
      "execution_count": null,
      "outputs": [
        {
          "output_type": "execute_result",
          "data": {
            "text/html": [
              "<div>\n",
              "<style scoped>\n",
              "    .dataframe tbody tr th:only-of-type {\n",
              "        vertical-align: middle;\n",
              "    }\n",
              "\n",
              "    .dataframe tbody tr th {\n",
              "        vertical-align: top;\n",
              "    }\n",
              "\n",
              "    .dataframe thead th {\n",
              "        text-align: right;\n",
              "    }\n",
              "</style>\n",
              "<table border=\"1\" class=\"dataframe\">\n",
              "  <thead>\n",
              "    <tr style=\"text-align: right;\">\n",
              "      <th></th>\n",
              "      <th>category_id</th>\n",
              "      <th>views</th>\n",
              "      <th>likes</th>\n",
              "      <th>dislikes</th>\n",
              "      <th>comment_count</th>\n",
              "      <th>No_tags</th>\n",
              "      <th>desc_len</th>\n",
              "      <th>len_title</th>\n",
              "    </tr>\n",
              "  </thead>\n",
              "  <tbody>\n",
              "    <tr>\n",
              "      <th>count</th>\n",
              "      <td>36791.000000</td>\n",
              "      <td>3.679100e+04</td>\n",
              "      <td>3.679100e+04</td>\n",
              "      <td>3.679100e+04</td>\n",
              "      <td>36791.000000</td>\n",
              "      <td>36791.000000</td>\n",
              "      <td>36791.000000</td>\n",
              "      <td>36791.000000</td>\n",
              "    </tr>\n",
              "    <tr>\n",
              "      <th>mean</th>\n",
              "      <td>21.552173</td>\n",
              "      <td>1.071490e+06</td>\n",
              "      <td>2.745069e+04</td>\n",
              "      <td>1.685363e+03</td>\n",
              "      <td>2714.022043</td>\n",
              "      <td>18.938463</td>\n",
              "      <td>923.079123</td>\n",
              "      <td>70.609361</td>\n",
              "    </tr>\n",
              "    <tr>\n",
              "      <th>std</th>\n",
              "      <td>6.586716</td>\n",
              "      <td>3.207149e+06</td>\n",
              "      <td>9.783129e+04</td>\n",
              "      <td>1.619732e+04</td>\n",
              "      <td>14978.114328</td>\n",
              "      <td>9.843531</td>\n",
              "      <td>815.038867</td>\n",
              "      <td>22.409174</td>\n",
              "    </tr>\n",
              "    <tr>\n",
              "      <th>min</th>\n",
              "      <td>1.000000</td>\n",
              "      <td>4.024000e+03</td>\n",
              "      <td>0.000000e+00</td>\n",
              "      <td>0.000000e+00</td>\n",
              "      <td>0.000000</td>\n",
              "      <td>1.000000</td>\n",
              "      <td>3.000000</td>\n",
              "      <td>5.000000</td>\n",
              "    </tr>\n",
              "    <tr>\n",
              "      <th>25%</th>\n",
              "      <td>23.000000</td>\n",
              "      <td>1.256040e+05</td>\n",
              "      <td>8.790000e+02</td>\n",
              "      <td>1.090000e+02</td>\n",
              "      <td>83.000000</td>\n",
              "      <td>12.000000</td>\n",
              "      <td>368.000000</td>\n",
              "      <td>53.000000</td>\n",
              "    </tr>\n",
              "    <tr>\n",
              "      <th>50%</th>\n",
              "      <td>24.000000</td>\n",
              "      <td>3.078360e+05</td>\n",
              "      <td>3.126000e+03</td>\n",
              "      <td>3.310000e+02</td>\n",
              "      <td>336.000000</td>\n",
              "      <td>19.000000</td>\n",
              "      <td>677.000000</td>\n",
              "      <td>74.000000</td>\n",
              "    </tr>\n",
              "    <tr>\n",
              "      <th>75%</th>\n",
              "      <td>24.000000</td>\n",
              "      <td>8.066315e+05</td>\n",
              "      <td>1.409500e+04</td>\n",
              "      <td>1.032000e+03</td>\n",
              "      <td>1314.500000</td>\n",
              "      <td>25.000000</td>\n",
              "      <td>1237.000000</td>\n",
              "      <td>91.000000</td>\n",
              "    </tr>\n",
              "    <tr>\n",
              "      <th>max</th>\n",
              "      <td>43.000000</td>\n",
              "      <td>1.254322e+08</td>\n",
              "      <td>2.912710e+06</td>\n",
              "      <td>1.545017e+06</td>\n",
              "      <td>827755.000000</td>\n",
              "      <td>72.000000</td>\n",
              "      <td>5136.000000</td>\n",
              "      <td>100.000000</td>\n",
              "    </tr>\n",
              "  </tbody>\n",
              "</table>\n",
              "</div>"
            ],
            "text/plain": [
              "        category_id         views         likes      dislikes  comment_count  \\\n",
              "count  36791.000000  3.679100e+04  3.679100e+04  3.679100e+04   36791.000000   \n",
              "mean      21.552173  1.071490e+06  2.745069e+04  1.685363e+03    2714.022043   \n",
              "std        6.586716  3.207149e+06  9.783129e+04  1.619732e+04   14978.114328   \n",
              "min        1.000000  4.024000e+03  0.000000e+00  0.000000e+00       0.000000   \n",
              "25%       23.000000  1.256040e+05  8.790000e+02  1.090000e+02      83.000000   \n",
              "50%       24.000000  3.078360e+05  3.126000e+03  3.310000e+02     336.000000   \n",
              "75%       24.000000  8.066315e+05  1.409500e+04  1.032000e+03    1314.500000   \n",
              "max       43.000000  1.254322e+08  2.912710e+06  1.545017e+06  827755.000000   \n",
              "\n",
              "            No_tags      desc_len     len_title  \n",
              "count  36791.000000  36791.000000  36791.000000  \n",
              "mean      18.938463    923.079123     70.609361  \n",
              "std        9.843531    815.038867     22.409174  \n",
              "min        1.000000      3.000000      5.000000  \n",
              "25%       12.000000    368.000000     53.000000  \n",
              "50%       19.000000    677.000000     74.000000  \n",
              "75%       25.000000   1237.000000     91.000000  \n",
              "max       72.000000   5136.000000    100.000000  "
            ]
          },
          "metadata": {
            "tags": []
          },
          "execution_count": 4
        }
      ]
    },
    {
      "cell_type": "markdown",
      "metadata": {
        "id": "KGEZoHbKhSNE"
      },
      "source": [
        "## Univariate Analysis"
      ]
    },
    {
      "cell_type": "code",
      "metadata": {
        "ExecuteTime": {
          "end_time": "2021-04-12T11:03:19.590073Z",
          "start_time": "2021-04-12T11:03:18.725173Z"
        },
        "id": "jsnqgyX3hSNE",
        "outputId": "c901bada-27fc-44fe-c38a-cd2d286c1846"
      },
      "source": [
        "#using boxplot\n",
        "features = df.select_dtypes([\"float64\", \"int64\", \"boolean\"]).columns\n",
        "\n",
        "fig, ax = plt.subplots(2, 4, figsize=(20, 18))\n",
        "rows    = [0]*4 + [1]*3\n",
        "cols    = [0, 1, 2, 3] * 2\n",
        "for row, col, feature in zip(rows, cols, features):\n",
        "    sns.boxplot(y=feature, data=df[features], ax=ax[row, col])"
      ],
      "execution_count": null,
      "outputs": [
        {
          "output_type": "display_data",
          "data": {
            "image/png": "[encoded data removed]",
            "text/plain": [
              "<Figure size 1440x1296 with 8 Axes>"
            ]
          },
          "metadata": {
            "tags": [],
            "needs_background": "light"
          }
        }
      ]
    },
    {
      "cell_type": "markdown",
      "metadata": {
        "id": "Nh5JGAiFhSNF"
      },
      "source": [
        "Banyak outlier yang ada pada feature. jika kita menggunakan algoritma linear regression, penting untuk dihilangkan outlier yang ada, namun jika menggunakan algoritma tree based (decision tree, random forest, xgboost), tidak wajib untuk dihilangkan outlier karena algoritma tree based cukup robust untuk mengatasi hal ini"
      ]
    },
    {
      "cell_type": "markdown",
      "metadata": {
        "id": "tiGGZRVthSNF"
      },
      "source": [
        "## Multivariate Analysis"
      ]
    },
    {
      "cell_type": "code",
      "metadata": {
        "ExecuteTime": {
          "end_time": "2021-04-12T11:03:20.468889Z",
          "start_time": "2021-04-12T11:03:19.591565Z"
        },
        "id": "Hh4d7gAthSNF",
        "outputId": "4e0afe61-7d82-4e9a-81a5-532ef171c10c"
      },
      "source": [
        "plt.figure(figsize=(10, 8))\n",
        "sns.heatmap(df.corr(), cmap='Blues', annot=True, fmt='.2f')"
      ],
      "execution_count": null,
      "outputs": [
        {
          "output_type": "execute_result",
          "data": {
            "text/plain": [
              "<AxesSubplot:>"
            ]
          },
          "metadata": {
            "tags": []
          },
          "execution_count": 6
        },
        {
          "output_type": "display_data",
          "data": {
            "image/png": "[encoded data removed]",
            "text/plain": [
              "<Figure size 720x576 with 2 Axes>"
            ]
          },
          "metadata": {
            "tags": [],
            "needs_background": "light"
          }
        }
      ]
    },
    {
      "cell_type": "markdown",
      "metadata": {
        "id": "jNSd009whSNG"
      },
      "source": [
        "- Kolom yang memiliki korelasi tinggi terhadap target (>0.5) adalah likes, dislikes, dan comment_count.\n",
        "- Jika kita menggunakan algoritma linear regression untuk melatih model kita, penting untuk memperhatikan asumsi multikolinearitas dengan menghindari korelasi antar feature yang tinggi, sepertil likes, dislikes, atau comment count (dapat dipilih salah satu feature saja)"
      ]
    },
    {
      "cell_type": "markdown",
      "metadata": {
        "id": "cngEEhsnhSNG"
      },
      "source": [
        "# Preprocessing"
      ]
    },
    {
      "cell_type": "markdown",
      "metadata": {
        "id": "V-6tJQmwhSNG"
      },
      "source": [
        "## Missing Values"
      ]
    },
    {
      "cell_type": "code",
      "metadata": {
        "ExecuteTime": {
          "end_time": "2021-04-12T12:51:12.479660Z",
          "start_time": "2021-04-12T12:51:12.452564Z"
        },
        "id": "CIxS0HLKhSNG",
        "outputId": "c4c04406-1ca6-4530-a9be-dc3e20859023"
      },
      "source": [
        "df.isna().sum()"
      ],
      "execution_count": null,
      "outputs": [
        {
          "output_type": "execute_result",
          "data": {
            "text/plain": [
              "trending_date              0\n",
              "title                      0\n",
              "channel_title              0\n",
              "category_id                0\n",
              "publish_time               0\n",
              "tags                       0\n",
              "views                      0\n",
              "likes                      0\n",
              "dislikes                   0\n",
              "comment_count              0\n",
              "comments_disabled          0\n",
              "ratings_disabled           0\n",
              "video_error_or_removed     0\n",
              "description               45\n",
              "No_tags                    0\n",
              "desc_len                   0\n",
              "len_title                  0\n",
              "publish_date               0\n",
              "dtype: int64"
            ]
          },
          "metadata": {
            "tags": []
          },
          "execution_count": 5
        }
      ]
    },
    {
      "cell_type": "code",
      "metadata": {
        "ExecuteTime": {
          "end_time": "2021-04-12T12:51:12.623644Z",
          "start_time": "2021-04-12T12:51:12.615785Z"
        },
        "id": "yMlrr7OThSNH",
        "outputId": "46d76562-57fe-4212-8305-23a53f8fc128"
      },
      "source": [
        "df.shape"
      ],
      "execution_count": null,
      "outputs": [
        {
          "output_type": "execute_result",
          "data": {
            "text/plain": [
              "(36791, 18)"
            ]
          },
          "metadata": {
            "tags": []
          },
          "execution_count": 6
        }
      ]
    },
    {
      "cell_type": "markdown",
      "metadata": {
        "id": "Io_8iv4yhSNH"
      },
      "source": [
        "Terdapat 45 rows missing value pada description, jumlahnya cukup sedikit dibandingkan dengan total rows sebanyak 36,791. Dapat kita hapus saja."
      ]
    },
    {
      "cell_type": "code",
      "metadata": {
        "ExecuteTime": {
          "end_time": "2021-04-12T12:51:13.598669Z",
          "start_time": "2021-04-12T12:51:13.497581Z"
        },
        "id": "KeECTqnYhSNH"
      },
      "source": [
        "df = df.dropna()"
      ],
      "execution_count": null,
      "outputs": []
    },
    {
      "cell_type": "markdown",
      "metadata": {
        "id": "_yzOqNIwhSNH"
      },
      "source": [
        "## Duplicate Values"
      ]
    },
    {
      "cell_type": "code",
      "metadata": {
        "ExecuteTime": {
          "end_time": "2021-04-12T12:51:15.335894Z",
          "start_time": "2021-04-12T12:51:15.162036Z"
        },
        "id": "uomwgQLYhSNI",
        "outputId": "1647fad0-fd87-41e4-e8a7-073017c11550"
      },
      "source": [
        "df.duplicated().sum()"
      ],
      "execution_count": null,
      "outputs": [
        {
          "output_type": "execute_result",
          "data": {
            "text/plain": [
              "4228"
            ]
          },
          "metadata": {
            "tags": []
          },
          "execution_count": 8
        }
      ]
    },
    {
      "cell_type": "code",
      "metadata": {
        "ExecuteTime": {
          "end_time": "2021-04-12T12:51:15.664806Z",
          "start_time": "2021-04-12T12:51:15.539638Z"
        },
        "id": "ywkJlrS3hSNI"
      },
      "source": [
        "df = df.drop_duplicates()"
      ],
      "execution_count": null,
      "outputs": []
    },
    {
      "cell_type": "markdown",
      "metadata": {
        "id": "e-xUuPiehSNI"
      },
      "source": [
        "## Outliers\n",
        "- Untuk linear regression, penting untuk dilakukan outliers removal untuk menghindari noise pada data yang mempengaruhi hasil garis linear."
      ]
    },
    {
      "cell_type": "code",
      "metadata": {
        "ExecuteTime": {
          "end_time": "2021-04-12T11:03:20.932827Z",
          "start_time": "2021-04-12T11:03:20.856664Z"
        },
        "id": "tiiYccPghSNI",
        "outputId": "470c1440-ba3e-4756-b0a9-425ba4585090"
      },
      "source": [
        "features = df.select_dtypes([\"float64\", \"int64\", \"boolean\"]).columns\n",
        "\n",
        "for f in features:\n",
        "    Q1 = df[f].quantile(0.25)\n",
        "    Q3 = df[f].quantile(0.75)\n",
        "    IQR = Q3 - Q1\n",
        "    low_limit = Q1 - (1.5 * IQR)\n",
        "    high_limit = Q3 + (1.5 * IQR)\n",
        "    filtered_entries = ((df[f] >= low_limit) & (df[f] <= high_limit))\n",
        "    df = df[filtered_entries]\n",
        "df.shape"
      ],
      "execution_count": null,
      "outputs": [
        {
          "output_type": "execute_result",
          "data": {
            "text/plain": [
              "(14298, 18)"
            ]
          },
          "metadata": {
            "tags": []
          },
          "execution_count": 12
        }
      ]
    },
    {
      "cell_type": "markdown",
      "metadata": {
        "id": "wCBFW-BShSNJ"
      },
      "source": [
        "# Feature Engineering\n",
        "Sebagai contoh kita dapat melihat apakah video di-upload pada weekday/weekend"
      ]
    },
    {
      "cell_type": "code",
      "metadata": {
        "ExecuteTime": {
          "end_time": "2021-04-12T12:51:19.791918Z",
          "start_time": "2021-04-12T12:51:19.755135Z"
        },
        "id": "lupAd8SIhSNJ"
      },
      "source": [
        "df.publish_date = pd.to_datetime(df.publish_date)\n",
        "to_one_hot = df.publish_date.dt.day_name()\n",
        "days = pd.get_dummies(to_one_hot)"
      ],
      "execution_count": null,
      "outputs": []
    },
    {
      "cell_type": "code",
      "metadata": {
        "ExecuteTime": {
          "end_time": "2021-04-12T12:51:19.949899Z",
          "start_time": "2021-04-12T12:51:19.907795Z"
        },
        "id": "PpkaWcO5hSNJ"
      },
      "source": [
        "day_names = df.publish_date.dt.day_name()\n",
        "is_weekend = day_names.apply(lambda x : 1 if x in ['Saturday','Sunday'] else 0).to_frame()\n",
        "is_weekend = is_weekend.rename(columns={'publish_date':'is_weekend'})"
      ],
      "execution_count": null,
      "outputs": []
    },
    {
      "cell_type": "code",
      "metadata": {
        "ExecuteTime": {
          "end_time": "2021-04-12T12:51:21.363681Z",
          "start_time": "2021-04-12T12:51:21.307092Z"
        },
        "id": "HjF2B5nIhSNJ",
        "outputId": "6dadfb78-ad58-4a5d-beae-eb9e621b6d78"
      },
      "source": [
        "df = pd.concat([df, days], axis=1)\n",
        "df = pd.concat([df, is_weekend], axis=1)\n",
        "df.head()"
      ],
      "execution_count": null,
      "outputs": [
        {
          "output_type": "execute_result",
          "data": {
            "text/html": [
              "<div>\n",
              "<style scoped>\n",
              "    .dataframe tbody tr th:only-of-type {\n",
              "        vertical-align: middle;\n",
              "    }\n",
              "\n",
              "    .dataframe tbody tr th {\n",
              "        vertical-align: top;\n",
              "    }\n",
              "\n",
              "    .dataframe thead th {\n",
              "        text-align: right;\n",
              "    }\n",
              "</style>\n",
              "<table border=\"1\" class=\"dataframe\">\n",
              "  <thead>\n",
              "    <tr style=\"text-align: right;\">\n",
              "      <th></th>\n",
              "      <th>trending_date</th>\n",
              "      <th>title</th>\n",
              "      <th>channel_title</th>\n",
              "      <th>category_id</th>\n",
              "      <th>publish_time</th>\n",
              "      <th>tags</th>\n",
              "      <th>views</th>\n",
              "      <th>likes</th>\n",
              "      <th>dislikes</th>\n",
              "      <th>comment_count</th>\n",
              "      <th>...</th>\n",
              "      <th>len_title</th>\n",
              "      <th>publish_date</th>\n",
              "      <th>Friday</th>\n",
              "      <th>Monday</th>\n",
              "      <th>Saturday</th>\n",
              "      <th>Sunday</th>\n",
              "      <th>Thursday</th>\n",
              "      <th>Tuesday</th>\n",
              "      <th>Wednesday</th>\n",
              "      <th>is_weekend</th>\n",
              "    </tr>\n",
              "  </thead>\n",
              "  <tbody>\n",
              "    <tr>\n",
              "      <th>0</th>\n",
              "      <td>2017-11-14</td>\n",
              "      <td>Sharry Mann: Cute Munda ( Song Teaser) | Parmi...</td>\n",
              "      <td>Lokdhun Punjabi</td>\n",
              "      <td>1</td>\n",
              "      <td>12:20:39</td>\n",
              "      <td>sharry mann|\"sharry mann new song\"|\"sharry man...</td>\n",
              "      <td>1096327</td>\n",
              "      <td>33966</td>\n",
              "      <td>798</td>\n",
              "      <td>882</td>\n",
              "      <td>...</td>\n",
              "      <td>81</td>\n",
              "      <td>2017-11-12</td>\n",
              "      <td>0</td>\n",
              "      <td>0</td>\n",
              "      <td>0</td>\n",
              "      <td>1</td>\n",
              "      <td>0</td>\n",
              "      <td>0</td>\n",
              "      <td>0</td>\n",
              "      <td>1</td>\n",
              "    </tr>\n",
              "    <tr>\n",
              "      <th>1</th>\n",
              "      <td>2017-11-14</td>\n",
              "      <td>पीरियड्स के समय, पेट पर पति करता ऐसा, देखकर दं...</td>\n",
              "      <td>HJ NEWS</td>\n",
              "      <td>25</td>\n",
              "      <td>05:43:56</td>\n",
              "      <td>पीरियड्स के समय|\"पेट पर पति करता ऐसा\"|\"देखकर द...</td>\n",
              "      <td>590101</td>\n",
              "      <td>735</td>\n",
              "      <td>904</td>\n",
              "      <td>0</td>\n",
              "      <td>...</td>\n",
              "      <td>58</td>\n",
              "      <td>2017-11-13</td>\n",
              "      <td>0</td>\n",
              "      <td>1</td>\n",
              "      <td>0</td>\n",
              "      <td>0</td>\n",
              "      <td>0</td>\n",
              "      <td>0</td>\n",
              "      <td>0</td>\n",
              "      <td>0</td>\n",
              "    </tr>\n",
              "    <tr>\n",
              "      <th>2</th>\n",
              "      <td>2017-11-14</td>\n",
              "      <td>Stylish Star Allu Arjun @ ChaySam Wedding Rece...</td>\n",
              "      <td>TFPC</td>\n",
              "      <td>24</td>\n",
              "      <td>15:48:08</td>\n",
              "      <td>Stylish Star Allu Arjun @ ChaySam Wedding Rece...</td>\n",
              "      <td>473988</td>\n",
              "      <td>2011</td>\n",
              "      <td>243</td>\n",
              "      <td>149</td>\n",
              "      <td>...</td>\n",
              "      <td>58</td>\n",
              "      <td>2017-11-12</td>\n",
              "      <td>0</td>\n",
              "      <td>0</td>\n",
              "      <td>0</td>\n",
              "      <td>1</td>\n",
              "      <td>0</td>\n",
              "      <td>0</td>\n",
              "      <td>0</td>\n",
              "      <td>1</td>\n",
              "    </tr>\n",
              "    <tr>\n",
              "      <th>3</th>\n",
              "      <td>2017-11-14</td>\n",
              "      <td>Eruma Saani | Tamil vs English</td>\n",
              "      <td>Eruma Saani</td>\n",
              "      <td>23</td>\n",
              "      <td>07:08:48</td>\n",
              "      <td>Eruma Saani|\"Tamil Comedy Videos\"|\"Films\"|\"Mov...</td>\n",
              "      <td>1242680</td>\n",
              "      <td>70353</td>\n",
              "      <td>1624</td>\n",
              "      <td>2684</td>\n",
              "      <td>...</td>\n",
              "      <td>30</td>\n",
              "      <td>2017-11-12</td>\n",
              "      <td>0</td>\n",
              "      <td>0</td>\n",
              "      <td>0</td>\n",
              "      <td>1</td>\n",
              "      <td>0</td>\n",
              "      <td>0</td>\n",
              "      <td>0</td>\n",
              "      <td>1</td>\n",
              "    </tr>\n",
              "    <tr>\n",
              "      <th>4</th>\n",
              "      <td>2017-11-14</td>\n",
              "      <td>why Samantha became EMOTIONAL @ Samantha naga ...</td>\n",
              "      <td>Filmylooks</td>\n",
              "      <td>24</td>\n",
              "      <td>01:14:16</td>\n",
              "      <td>Filmylooks|\"latest news\"|\"telugu movies\"|\"telu...</td>\n",
              "      <td>464015</td>\n",
              "      <td>492</td>\n",
              "      <td>293</td>\n",
              "      <td>66</td>\n",
              "      <td>...</td>\n",
              "      <td>88</td>\n",
              "      <td>2017-11-13</td>\n",
              "      <td>0</td>\n",
              "      <td>1</td>\n",
              "      <td>0</td>\n",
              "      <td>0</td>\n",
              "      <td>0</td>\n",
              "      <td>0</td>\n",
              "      <td>0</td>\n",
              "      <td>0</td>\n",
              "    </tr>\n",
              "  </tbody>\n",
              "</table>\n",
              "<p>5 rows × 26 columns</p>\n",
              "</div>"
            ],
            "text/plain": [
              "  trending_date                                              title  \\\n",
              "0    2017-11-14  Sharry Mann: Cute Munda ( Song Teaser) | Parmi...   \n",
              "1    2017-11-14  पीरियड्स के समय, पेट पर पति करता ऐसा, देखकर दं...   \n",
              "2    2017-11-14  Stylish Star Allu Arjun @ ChaySam Wedding Rece...   \n",
              "3    2017-11-14                     Eruma Saani | Tamil vs English   \n",
              "4    2017-11-14  why Samantha became EMOTIONAL @ Samantha naga ...   \n",
              "\n",
              "     channel_title  category_id publish_time  \\\n",
              "0  Lokdhun Punjabi            1     12:20:39   \n",
              "1          HJ NEWS           25     05:43:56   \n",
              "2             TFPC           24     15:48:08   \n",
              "3      Eruma Saani           23     07:08:48   \n",
              "4       Filmylooks           24     01:14:16   \n",
              "\n",
              "                                                tags    views  likes  \\\n",
              "0  sharry mann|\"sharry mann new song\"|\"sharry man...  1096327  33966   \n",
              "1  पीरियड्स के समय|\"पेट पर पति करता ऐसा\"|\"देखकर द...   590101    735   \n",
              "2  Stylish Star Allu Arjun @ ChaySam Wedding Rece...   473988   2011   \n",
              "3  Eruma Saani|\"Tamil Comedy Videos\"|\"Films\"|\"Mov...  1242680  70353   \n",
              "4  Filmylooks|\"latest news\"|\"telugu movies\"|\"telu...   464015    492   \n",
              "\n",
              "   dislikes  comment_count  ...  len_title  publish_date  Friday Monday  \\\n",
              "0       798            882  ...         81    2017-11-12       0      0   \n",
              "1       904              0  ...         58    2017-11-13       0      1   \n",
              "2       243            149  ...         58    2017-11-12       0      0   \n",
              "3      1624           2684  ...         30    2017-11-12       0      0   \n",
              "4       293             66  ...         88    2017-11-13       0      1   \n",
              "\n",
              "   Saturday  Sunday  Thursday Tuesday  Wednesday  is_weekend  \n",
              "0         0       1         0       0          0           1  \n",
              "1         0       0         0       0          0           0  \n",
              "2         0       1         0       0          0           1  \n",
              "3         0       1         0       0          0           1  \n",
              "4         0       0         0       0          0           0  \n",
              "\n",
              "[5 rows x 26 columns]"
            ]
          },
          "metadata": {
            "tags": []
          },
          "execution_count": 12
        }
      ]
    },
    {
      "cell_type": "markdown",
      "metadata": {
        "id": "rwUTPXlNhSNK"
      },
      "source": [
        "Hasil dari feature hari dan is_weekend sudah ditambahkan pada dataset"
      ]
    },
    {
      "cell_type": "markdown",
      "metadata": {
        "id": "j1S-FcSmhSNK"
      },
      "source": [
        "# Modeling"
      ]
    },
    {
      "cell_type": "code",
      "metadata": {
        "ExecuteTime": {
          "end_time": "2021-04-12T12:51:25.429384Z",
          "start_time": "2021-04-12T12:51:24.935156Z"
        },
        "id": "I_j-A9QehSNK"
      },
      "source": [
        "from sklearn.model_selection import train_test_split\n",
        "from sklearn.linear_model import LinearRegression, Ridge, Lasso, ElasticNet\n",
        "from sklearn.tree import DecisionTreeRegressor\n",
        "from sklearn.ensemble import RandomForestRegressor\n",
        "from sklearn.svm import SVR\n",
        "from sklearn.preprocessing import RobustScaler"
      ],
      "execution_count": null,
      "outputs": []
    },
    {
      "cell_type": "markdown",
      "metadata": {
        "id": "zP7XHdm8hSNK"
      },
      "source": [
        "- Pada bagian dibawah ini akan dilakukan split data train dan test.\n",
        "- Data akan dilakukan standardisasi dengan menggunakan RobustScaler(). RobustScaler baik digunakan jika pada data kita terdapat outlier\n",
        "- Scaling akan dilakukan pada data training terlebih dahulu, kemudian setting scaling dari data training akan digunakan pada data testing selanjutnya"
      ]
    },
    {
      "cell_type": "code",
      "metadata": {
        "ExecuteTime": {
          "end_time": "2021-04-12T12:51:26.699562Z",
          "start_time": "2021-04-12T12:51:26.618995Z"
        },
        "id": "R91Fk4ynhSNK"
      },
      "source": [
        "features = df.select_dtypes([\"float64\", \"int64\", \"boolean\"]).columns\n",
        "x = df[features].drop(\"views\", axis=1)\n",
        "y = df.views\n",
        "\n",
        "xtrain, xtest, ytrain, ytest = train_test_split(x, y, test_size=1/3, random_state=42)\n",
        "\n",
        "# Create a train and test dataset\n",
        "data_train = pd.concat([xtrain, ytrain], axis=1)\n",
        "data_test  = pd.concat([xtest, ytest], axis=1)\n",
        "\n",
        "# Standardize the data\n",
        "scaler    = RobustScaler()\n",
        "scaler.fit(data_train)\n",
        "std_train = scaler.transform(data_train)\n",
        "std_test  = scaler.transform(data_test)\n",
        "\n",
        "# Turn into data frame\n",
        "std_train = pd.DataFrame(std_train, columns=data_train.columns)\n",
        "std_test  = pd.DataFrame(std_test, columns=data_test.columns)\n",
        "\n",
        "# Re-split the data\n",
        "xtrain_std = std_train.drop(\"views\", axis=1)\n",
        "ytrain_std = std_train.views\n",
        "xtest_std  = std_test.drop(\"views\", axis=1)\n",
        "ytest_std  = std_test.views"
      ],
      "execution_count": null,
      "outputs": []
    },
    {
      "cell_type": "code",
      "metadata": {
        "ExecuteTime": {
          "end_time": "2021-04-12T19:10:00.092620Z",
          "start_time": "2021-04-12T19:10:00.086369Z"
        },
        "id": "s3-r06HjhSNL"
      },
      "source": [
        "from sklearn.metrics import mean_squared_error, mean_absolute_error, r2_score\n",
        "def eval_regression(ytest, pred):\n",
        "    print(\"MAE: %.2f\" % mean_absolute_error(ytest, pred)) # The MAE\n",
        "    print(\"RMSE: %.2f\" % mean_squared_error(ytest, pred, squared=False)) # The RMSE\n",
        "    print('R2 score: %.2f' % r2_score(ytest, pred)) # Explained variance score: 1 is perfect prediction\n",
        "\n",
        "def show_best_hyperparameter(model, hyperparameters):\n",
        "    for key, value in hyperparameters.items() :\n",
        "        print('Best '+key+':', model.get_params()[key])\n",
        "\n",
        "def show_feature_importance(model):\n",
        "    feat_importances = pd.Series(model.feature_importances_, index=x.columns)\n",
        "    ax = feat_importances.nlargest(25).plot(kind='barh', figsize=(10, 8))\n",
        "    ax.invert_yaxis()\n",
        "\n",
        "    plt.xlabel('score')\n",
        "    plt.ylabel('feature')\n",
        "    plt.title('feature importance score')"
      ],
      "execution_count": null,
      "outputs": []
    },
    {
      "cell_type": "code",
      "metadata": {
        "ExecuteTime": {
          "end_time": "2021-04-12T12:52:11.476060Z",
          "start_time": "2021-04-12T12:51:28.908143Z"
        },
        "id": "miZ1DyGYhSNL",
        "outputId": "17bb36ae-1f42-49b3-caf7-abc16d367f14"
      },
      "source": [
        "models = {\n",
        "    \"Linear\"     : LinearRegression(),\n",
        "    \"Ridge\"      : Ridge(),\n",
        "    \"Lasso\"      : Lasso(),\n",
        "    \"Elasticnet\" : ElasticNet(),\n",
        "    \"DT\"         : DecisionTreeRegressor(),\n",
        "    \"RF\"         : RandomForestRegressor(),\n",
        "    \"SVR\"        : SVR()\n",
        "}\n",
        "\n",
        "for model_name, model in models.items():\n",
        "    model.fit(xtrain_std, ytrain_std)\n",
        "    y_pred = model.predict(xtest_std)\n",
        "    print(\"Evaluate model: {}\".format(model_name))\n",
        "    print(eval_regression(ytest_std, y_pred), \"\\n\")"
      ],
      "execution_count": null,
      "outputs": [
        {
          "output_type": "stream",
          "text": [
            "Evaluate model: Linear\n",
            "MAE: 1.07\n",
            "RMSE: 2.65\n",
            "R2 score: 0.72\n",
            "None \n",
            "\n",
            "Evaluate model: Ridge\n",
            "MAE: 1.07\n",
            "RMSE: 2.65\n",
            "R2 score: 0.72\n",
            "None \n",
            "\n",
            "Evaluate model: Lasso\n",
            "MAE: 1.01\n",
            "RMSE: 2.72\n",
            "R2 score: 0.71\n",
            "None \n",
            "\n",
            "Evaluate model: Elasticnet\n",
            "MAE: 1.01\n",
            "RMSE: 2.70\n",
            "R2 score: 0.71\n",
            "None \n",
            "\n",
            "Evaluate model: DT\n",
            "MAE: 0.52\n",
            "RMSE: 1.69\n",
            "R2 score: 0.89\n",
            "None \n",
            "\n",
            "Evaluate model: RF\n",
            "MAE: 0.42\n",
            "RMSE: 1.19\n",
            "R2 score: 0.94\n",
            "None \n",
            "\n",
            "Evaluate model: SVR\n",
            "MAE: 0.79\n",
            "RMSE: 3.33\n",
            "R2 score: 0.56\n",
            "None \n",
            "\n"
          ],
          "name": "stdout"
        }
      ]
    },
    {
      "cell_type": "markdown",
      "metadata": {
        "id": "GSJB9vZthSNL"
      },
      "source": [
        "Dari 7 algoritma yang diuji coba, didapatkan performa yang paling baik dengan menggunakan random forest, dengan RMSE paling rendash sebesar 1.17 dan R2 score paling rendah yaitu sebesar 0.94. Selanjutnya akan kita lakukan tuning hyperparameter"
      ]
    },
    {
      "cell_type": "code",
      "metadata": {
        "ExecuteTime": {
          "end_time": "2021-04-12T14:23:08.695926Z",
          "start_time": "2021-04-12T12:52:11.478513Z"
        },
        "id": "QfD8RVJQhSNL",
        "outputId": "21ea7c8e-5ad0-4c86-e1a8-ee14e4137774"
      },
      "source": [
        "from sklearn.model_selection import RandomizedSearchCV, GridSearchCV\n",
        "import numpy as np\n",
        "\n",
        "#List Hyperparameters yang akan diuji\n",
        "hyperparameters = dict(\n",
        "                       n_estimators = [int(x) for x in np.linspace(start = 100, stop = 200, num = 10)], # Jumlah subtree\n",
        "                       criterion = ['mse','mae'],\n",
        "                       max_depth = [int(x) for x in np.linspace(10, 110, num = 5)],  # Maximum kedalaman tree\n",
        "                       n_jobs = [3], # Core untuk parallel computation. -1 untuk menggunakan semua core\n",
        "                      )\n",
        "\n",
        "# Init\n",
        "rf = RandomForestRegressor(random_state=42)\n",
        "rf_tuned = RandomizedSearchCV(rf, hyperparameters, cv=5, random_state=42, scoring='r2')\n",
        "rf_tuned.fit(xtrain_std, ytrain_std)\n",
        "\n",
        "# Predict & Evaluation\n",
        "y_pred = rf_tuned.predict(xtest_std)#Check performa dari model\n",
        "eval_regression(ytest_std, y_pred)"
      ],
      "execution_count": null,
      "outputs": [
        {
          "output_type": "stream",
          "text": [
            "MAE: 0.42\n",
            "RMSE: 1.18\n",
            "R2 score: 0.94\n"
          ],
          "name": "stdout"
        }
      ]
    },
    {
      "cell_type": "markdown",
      "metadata": {
        "id": "fA6R9n8RhSNM"
      },
      "source": [
        "Hasil akhir dari model menggunakan tuning hyperparameter dari random forest dengan nilai hyperparameter terbaik:"
      ]
    },
    {
      "cell_type": "code",
      "metadata": {
        "ExecuteTime": {
          "end_time": "2021-04-12T14:23:08.722966Z",
          "start_time": "2021-04-12T14:23:08.701465Z"
        },
        "id": "X8lvn9qVhSNM",
        "outputId": "94a8b30b-0ce7-4451-a90c-0c8a13ba34ff"
      },
      "source": [
        "show_best_hyperparameter(rf_tuned.best_estimator_, hyperparameters)"
      ],
      "execution_count": null,
      "outputs": [
        {
          "output_type": "stream",
          "text": [
            "Best n_estimators: 100\n",
            "Best criterion: mae\n",
            "Best max_depth: 60\n",
            "Best n_jobs: 3\n"
          ],
          "name": "stdout"
        }
      ]
    },
    {
      "cell_type": "markdown",
      "metadata": {
        "id": "8EoBsW74hSNM"
      },
      "source": [
        "<b>Insight tambahan: Feature Importance</b> (Optional)\n",
        "<br/>Dari model yang dibentuk, kita dapat mengetahui feature mana yang berperan penting untuk melakukan prediksi views. Hasil dari feature importance ditujukkan dibawah ini."
      ]
    },
    {
      "cell_type": "code",
      "metadata": {
        "ExecuteTime": {
          "end_time": "2021-04-12T19:10:05.217708Z",
          "start_time": "2021-04-12T19:10:04.901277Z"
        },
        "id": "-vY2N1pDhSNM",
        "outputId": "a21604ed-261b-4bd2-f91d-a56c90181f00"
      },
      "source": [
        "show_feature_importance(rf_tuned.best_estimator_)"
      ],
      "execution_count": null,
      "outputs": [
        {
          "output_type": "display_data",
          "data": {
            "image/png": "[encoded data removed]",
            "text/plain": [
              "<Figure size 720x576 with 1 Axes>"
            ]
          },
          "metadata": {
            "tags": [],
            "needs_background": "light"
          }
        }
      ]
    },
    {
      "cell_type": "markdown",
      "metadata": {
        "id": "ckx1LPT4hSNM"
      },
      "source": [
        "Berdasarkan feature importance score diatas, dapat dilihat feature dislikes, likes, desc_len merupakan top feature importance yang dapat kita jadikan fokus untuk mendapatkan view yang lebih. Feature lain seperti comments_disabled, ratings_disabled, ataupun video_error mempunyai score feature importance yang sangat rendah. Selanjutnya feature ini dapat dilakukan landasan untuk feature selection pada iterasi selanjutnya."
      ]
    }
  ]
}